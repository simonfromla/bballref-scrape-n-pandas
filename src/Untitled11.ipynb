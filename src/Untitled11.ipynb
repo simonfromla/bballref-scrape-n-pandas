{
 "cells": [
  {
   "cell_type": "code",
   "execution_count": 2,
   "metadata": {
    "collapsed": true
   },
   "outputs": [],
   "source": [
    "from urllib.request import urlopen\n",
    "from bs4 import BeautifulSoup\n",
    "import pandas as pd"
   ]
  },
  {
   "cell_type": "code",
   "execution_count": 109,
   "metadata": {
    "scrolled": false
   },
   "outputs": [],
   "source": [
    "url = \"http://www.basketball-reference.com/draft/NBA_2016.html\"\n",
    "html = urlopen(url)"
   ]
  },
  {
   "cell_type": "code",
   "execution_count": 110,
   "metadata": {},
   "outputs": [
    {
     "data": {
      "text/plain": [
       "bs4.BeautifulSoup"
      ]
     },
     "execution_count": 110,
     "metadata": {},
     "output_type": "execute_result"
    }
   ],
   "source": [
    "soup = BeautifulSoup(html, \"html5lib\")\n",
    "type(soup)"
   ]
  },
  {
   "cell_type": "code",
   "execution_count": 115,
   "metadata": {},
   "outputs": [
    {
     "data": {
      "text/plain": [
       "['Pk',\n",
       " 'Tm',\n",
       " 'Player',\n",
       " 'College',\n",
       " 'Yrs',\n",
       " 'G',\n",
       " 'MP',\n",
       " 'PTS',\n",
       " 'TRB',\n",
       " 'AST',\n",
       " 'FG%',\n",
       " '3P%',\n",
       " 'FT%',\n",
       " 'MP',\n",
       " 'PTS',\n",
       " 'TRB',\n",
       " 'AST',\n",
       " 'WS',\n",
       " 'WS/48',\n",
       " 'BPM',\n",
       " 'VORP']"
      ]
     },
     "execution_count": 115,
     "metadata": {},
     "output_type": "execute_result"
    }
   ],
   "source": [
    "# soup.findAll('tr', limit=2)\n",
    "\n",
    "soup.findAll('tr', limit=4)[3].findAll('th') # Skip first 2--groups 3 columns for mobile. Third 'tr' is for browser.\n",
    "column_headers = [th.getText() for th in soup.findAll('tr', limit=2)[1].findAll('th')[1:]]\n",
    "column_headers\n",
    "\n"
   ]
  },
  {
   "cell_type": "code",
   "execution_count": 116,
   "metadata": {},
   "outputs": [
    {
     "data": {
      "text/plain": [
       "list"
      ]
     },
     "execution_count": 116,
     "metadata": {},
     "output_type": "execute_result"
    }
   ],
   "source": [
    "data_rows = soup.findAll('tr')[2:]  # skip the first 2 header rows\n",
    "\n",
    "type(data_rows)\n",
    "# data_rows"
   ]
  },
  {
   "cell_type": "code",
   "execution_count": 117,
   "metadata": {
    "scrolled": true
   },
   "outputs": [],
   "source": [
    "player_data = [[td.getText() for td in data_rows[i].findAll('td')[:]]\n",
    "                for i in range(len(data_rows))]\n",
    "# player_data\n"
   ]
  },
  {
   "cell_type": "code",
   "execution_count": 119,
   "metadata": {
    "scrolled": true
   },
   "outputs": [
    {
     "data": {
      "text/html": [
       "<div>\n",
       "<style>\n",
       "    .dataframe thead tr:only-child th {\n",
       "        text-align: right;\n",
       "    }\n",
       "\n",
       "    .dataframe thead th {\n",
       "        text-align: left;\n",
       "    }\n",
       "\n",
       "    .dataframe tbody tr th {\n",
       "        vertical-align: top;\n",
       "    }\n",
       "</style>\n",
       "<table border=\"1\" class=\"dataframe\">\n",
       "  <thead>\n",
       "    <tr style=\"text-align: right;\">\n",
       "      <th></th>\n",
       "      <th>Pk</th>\n",
       "      <th>Tm</th>\n",
       "      <th>Player</th>\n",
       "      <th>College</th>\n",
       "      <th>Yrs</th>\n",
       "      <th>G</th>\n",
       "      <th>MP</th>\n",
       "      <th>PTS</th>\n",
       "      <th>TRB</th>\n",
       "      <th>AST</th>\n",
       "      <th>...</th>\n",
       "      <th>3P%</th>\n",
       "      <th>FT%</th>\n",
       "      <th>MP</th>\n",
       "      <th>PTS</th>\n",
       "      <th>TRB</th>\n",
       "      <th>AST</th>\n",
       "      <th>WS</th>\n",
       "      <th>WS/48</th>\n",
       "      <th>BPM</th>\n",
       "      <th>VORP</th>\n",
       "    </tr>\n",
       "  </thead>\n",
       "  <tbody>\n",
       "    <tr>\n",
       "      <th>0</th>\n",
       "      <td>1</td>\n",
       "      <td>PHI</td>\n",
       "      <td>Ben Simmons</td>\n",
       "      <td>Louisiana State University</td>\n",
       "      <td></td>\n",
       "      <td></td>\n",
       "      <td></td>\n",
       "      <td></td>\n",
       "      <td></td>\n",
       "      <td></td>\n",
       "      <td>...</td>\n",
       "      <td></td>\n",
       "      <td></td>\n",
       "      <td></td>\n",
       "      <td></td>\n",
       "      <td></td>\n",
       "      <td></td>\n",
       "      <td></td>\n",
       "      <td></td>\n",
       "      <td></td>\n",
       "      <td></td>\n",
       "    </tr>\n",
       "    <tr>\n",
       "      <th>1</th>\n",
       "      <td>2</td>\n",
       "      <td>LAL</td>\n",
       "      <td>Brandon Ingram</td>\n",
       "      <td>Duke University</td>\n",
       "      <td>1</td>\n",
       "      <td>79</td>\n",
       "      <td>2279</td>\n",
       "      <td>740</td>\n",
       "      <td>316</td>\n",
       "      <td>166</td>\n",
       "      <td>...</td>\n",
       "      <td>.294</td>\n",
       "      <td>.621</td>\n",
       "      <td>28.8</td>\n",
       "      <td>9.4</td>\n",
       "      <td>4.0</td>\n",
       "      <td>2.1</td>\n",
       "      <td>-0.3</td>\n",
       "      <td>-.007</td>\n",
       "      <td>-3.8</td>\n",
       "      <td>-1.1</td>\n",
       "    </tr>\n",
       "    <tr>\n",
       "      <th>2</th>\n",
       "      <td>3</td>\n",
       "      <td>BOS</td>\n",
       "      <td>Jaylen Brown</td>\n",
       "      <td>University of California</td>\n",
       "      <td>1</td>\n",
       "      <td>78</td>\n",
       "      <td>1341</td>\n",
       "      <td>515</td>\n",
       "      <td>220</td>\n",
       "      <td>64</td>\n",
       "      <td>...</td>\n",
       "      <td>.341</td>\n",
       "      <td>.685</td>\n",
       "      <td>17.2</td>\n",
       "      <td>6.6</td>\n",
       "      <td>2.8</td>\n",
       "      <td>0.8</td>\n",
       "      <td>1.5</td>\n",
       "      <td>.053</td>\n",
       "      <td>-4.0</td>\n",
       "      <td>-0.7</td>\n",
       "    </tr>\n",
       "  </tbody>\n",
       "</table>\n",
       "<p>3 rows × 21 columns</p>\n",
       "</div>"
      ],
      "text/plain": [
       "  Pk   Tm          Player                     College Yrs   G    MP  PTS  TRB  \\\n",
       "0  1  PHI     Ben Simmons  Louisiana State University                           \n",
       "1  2  LAL  Brandon Ingram             Duke University   1  79  2279  740  316   \n",
       "2  3  BOS    Jaylen Brown    University of California   1  78  1341  515  220   \n",
       "\n",
       "   AST  ...    3P%   FT%    MP  PTS  TRB  AST    WS  WS/48   BPM  VORP  \n",
       "0       ...                                                             \n",
       "1  166  ...   .294  .621  28.8  9.4  4.0  2.1  -0.3  -.007  -3.8  -1.1  \n",
       "2   64  ...   .341  .685  17.2  6.6  2.8  0.8   1.5   .053  -4.0  -0.7  \n",
       "\n",
       "[3 rows x 21 columns]"
      ]
     },
     "execution_count": 119,
     "metadata": {},
     "output_type": "execute_result"
    }
   ],
   "source": [
    "df = pd.DataFrame(player_data, columns=column_headers)\n",
    "df.head(3)"
   ]
  },
  {
   "cell_type": "code",
   "execution_count": null,
   "metadata": {
    "collapsed": true
   },
   "outputs": [],
   "source": []
  }
 ],
 "metadata": {
  "kernelspec": {
   "display_name": "Python 3",
   "language": "python",
   "name": "python3"
  },
  "language_info": {
   "codemirror_mode": {
    "name": "ipython",
    "version": 3
   },
   "file_extension": ".py",
   "mimetype": "text/x-python",
   "name": "python",
   "nbconvert_exporter": "python",
   "pygments_lexer": "ipython3",
   "version": "3.5.2"
  }
 },
 "nbformat": 4,
 "nbformat_minor": 2
}
